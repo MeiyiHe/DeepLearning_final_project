{
 "cells": [
  {
   "cell_type": "code",
   "execution_count": 9,
   "metadata": {},
   "outputs": [],
   "source": [
    "import os\n",
    "import random\n",
    "\n",
    "from collections import OrderedDict\n",
    "import numpy as np\n",
    "import pandas as pd\n",
    "\n",
    "import matplotlib\n",
    "import matplotlib.pyplot as plt\n",
    "matplotlib.rcParams['figure.figsize'] = [5, 5]\n",
    "matplotlib.rcParams['figure.dpi'] = 200\n",
    "\n",
    "import torch\n",
    "import torch.nn as nn\n",
    "import torch.nn.functional as F\n",
    "import torchvision\n",
    "from torchvision import transforms\n",
    "import torchvision.models as models\n",
    "\n",
    "\n",
    "from data_helper import UnlabeledDataset, LabeledDataset\n",
    "from helper import collate_fn, draw_box, compute_ts_road_map\n",
    "\n",
    "from anchors import get_bbox_gt, batched_coor_threat_updated\n",
    "\n",
    "\n",
    "from resnet import resnet18\n",
    "from obj_model import BoundingBox"
   ]
  },
  {
   "cell_type": "code",
   "execution_count": 4,
   "metadata": {},
   "outputs": [],
   "source": [
    "device = torch.device(\"cuda:0\" if torch.cuda.is_available() else \"cpu\")"
   ]
  },
  {
   "cell_type": "code",
   "execution_count": 25,
   "metadata": {},
   "outputs": [],
   "source": [
    "# construct anchor boxes\n",
    "def get_anchor_boxes(scaleX=[100, 70, 50, 20], scaleY=[25, 20, 15, 5]):\n",
    "    widths = torch.tensor(scaleX)\n",
    "    heights = torch.tensor(scaleY)\n",
    "    ref_boxes = []\n",
    "    for x in range(800):\n",
    "        for y in range(800):\n",
    "            x_r = widths + x\n",
    "            y_r = heights + y\n",
    "            x_l = torch.tensor([x, x, x, x])\n",
    "            y_l = torch.tensor([y, y, y, y])\n",
    "            x_r = x_r.unsqueeze(0)\n",
    "            y_r = y_r.unsqueeze(0)\n",
    "            x_l = x_l.unsqueeze(0)\n",
    "            y_l = y_l.unsqueeze(0)\n",
    "            ref_box = torch.cat((x_l, y_l, x_r, y_r))\n",
    "            ref_box = ref_box.permute((1,0))\n",
    "            ref_boxes.append(ref_box)\n",
    "\n",
    "    anchor_boxes = torch.stack(ref_boxes).view(-1,4).type(torch.double)\n",
    "    \n",
    "    return anchor_boxes"
   ]
  },
  {
   "cell_type": "code",
   "execution_count": 39,
   "metadata": {},
   "outputs": [],
   "source": [
    "def nms(boxes, scores, iou_threshold):\n",
    "    # type: (Tensor, Tensor, float)\n",
    "    \"\"\"\n",
    "    Performs non-maximum suppression (NMS) on the boxes according\n",
    "    to their intersection-over-union (IoU).\n",
    "    NMS iteratively removes lower scoring boxes which have an\n",
    "    IoU greater than iou_threshold with another (higher scoring)\n",
    "    box.\n",
    "    Parameters\n",
    "    ----------\n",
    "    boxes : Tensor[N, 4])\n",
    "        boxes to perform NMS on. They\n",
    "        are expected to be in (x1, y1, x2, y2) format\n",
    "    scores : Tensor[N]\n",
    "        scores for each one of the boxes\n",
    "    iou_threshold : float\n",
    "        discards all overlapping\n",
    "        boxes with IoU > iou_threshold\n",
    "    Returns\n",
    "    -------\n",
    "    keep : Tensor\n",
    "        int64 tensor with the indices\n",
    "        of the elements that have been kept\n",
    "        by NMS, sorted in decreasing order of scores\n",
    "    \"\"\"\n",
    "    return torch.ops.torchvision.nms(boxes, scores, iou_threshold)\n",
    "\n",
    "\n",
    "\n",
    "def batched_coor_threat_updated(ite, predicted_offsets, anchor_boxes, target, gt_classes, batch_sz, nms_threshold=0.1, plot=False):\n",
    "  # predicted offsets, target_offests, coor_in_meter\n",
    "    batch_coor = []\n",
    "    batched_threat_sum=0\n",
    "    original_anchor = anchor_boxes.clone()\n",
    "    original_predicted_offsets = predicted_offsets.clone()\n",
    "    original_gt_classes = gt_classes.clone()\n",
    "\n",
    "    for i in range(batch_sz):\n",
    "        anchor_boxes = original_anchor\n",
    "        predicted_offsets = original_predicted_offsets[i]\n",
    "        if i == 0:\n",
    "          cur_target = torch.from_numpy(target[0])\n",
    "        else:\n",
    "          cur_target = torch.from_numpy(target[1])\n",
    "    \n",
    "        gt_classes = original_gt_classes[i]\n",
    "\n",
    "        inds = (gt_classes != 0)\n",
    "        anchor_boxes = anchor_boxes[inds]\n",
    "        predicted_offsets = predicted_offsets[inds]\n",
    "        gt_classes = gt_classes[inds]\n",
    "\n",
    "\n",
    "        delta_x = predicted_offsets[:,0]\n",
    "        delta_y = predicted_offsets[:,1]\n",
    "        delta_scaleX = predicted_offsets[:,2]\n",
    "        delta_scaleY = predicted_offsets[:,3]\n",
    "\n",
    "        gt_widths = anchor_boxes[:, 2] - anchor_boxes[:, 0]\n",
    "        gt_heights = anchor_boxes[:, 3] - anchor_boxes[:, 1]\n",
    "        gt_center_x = anchor_boxes[:, 0] + 0.5 * gt_widths\n",
    "        gt_center_y = anchor_boxes[:, 1] + 0.5 * gt_heights\n",
    "\n",
    "        ex_width = gt_widths / torch.exp(delta_scaleX)\n",
    "        ex_height = gt_heights / torch.exp(delta_scaleY)\n",
    "        ex_center_x = gt_center_x - delta_x*ex_width\n",
    "        ex_center_y = gt_center_y - delta_y*ex_height\n",
    "\n",
    "        ex1 = ex_center_x - 0.5*ex_width\n",
    "        ex2 = ex_center_x + 0.5*ex_width\n",
    "        ey1 = ex_center_y - 0.5*ex_height\n",
    "        ey2 = ex_center_y + 0.5*ex_height\n",
    "\n",
    "\n",
    "        pred_boxes = torch.cat([ex1.unsqueeze(0), ey1.unsqueeze(0), ex2.unsqueeze(0), ey2.unsqueeze(0)], dim=0).permute(1,0)\n",
    "        pred_boxes = pred_boxes.type(torch.float32)\n",
    "        gt_classes = gt_classes.type(torch.float32)\n",
    "        cur_target = cur_target.type(torch.float32)\n",
    "   \n",
    "        inds = nms(pred_boxes, gt_classes, nms_threshold)\n",
    "        pred_boxes = pred_boxes[inds]\n",
    "        coordinate_list = []\n",
    "\n",
    "        for box in pred_boxes:\n",
    "            x1, y1, x2, y2 = box[0], box[1], box[2], box[3]\n",
    "            x1 = (x1-400)/10\n",
    "            x2 = (x2-400)/10\n",
    "            y1 = (y1-400)/-10\n",
    "            y2 = (y2-400)/-10\n",
    "            width = abs(x1 - x2)\n",
    "            height = abs(y1 - y2)\n",
    "            coordinate_list.append(torch.tensor([x2, x2, x1, x1, y2, y1, y2, y1]).view(-1, 4))\n",
    "            \n",
    "        coordinate_list = torch.stack(coordinate_list)\n",
    "        \n",
    "        \n",
    "        print('batch {}'.format(i))\n",
    "        print(coordinate_list)\n",
    "        print('current Threat Score {}'.format( compute_ats_bounding_boxes(coordinate_list, cur_target) ))\n",
    "        \n",
    "        batched_threat_sum += compute_ats_bounding_boxes(coordinate_list, cur_target)\n",
    "        batch_coor.append(coordinate_list)\n",
    "        #visActual(cur_target, ite,i)\n",
    "    return batch_coor, batched_threat_sum\n"
   ]
  },
  {
   "cell_type": "code",
   "execution_count": 30,
   "metadata": {},
   "outputs": [],
   "source": [
    "def get_targets(target, sample):\n",
    "    device = 'cpu'\n",
    "    map_sz = 800\n",
    "    batched_preds = []\n",
    "    batched_offsets = []\n",
    "    for t, s in zip(target, sample):\n",
    "        bboxes = t['bounding_box'].to(device)\n",
    "        gt_classes, gt_offsets = get_bbox_gt(bboxes, t['category'].to(device), get_anchor_boxes().to(device), map_sz, device)\n",
    "        batched_preds.append(gt_classes)\n",
    "        batched_offsets.append(gt_offsets)\n",
    "\n",
    "    class_targets = torch.stack(batched_preds)\n",
    "    box_targets = torch.stack(batched_offsets)\n",
    "\n",
    "    return class_targets, box_targets"
   ]
  },
  {
   "cell_type": "code",
   "execution_count": 3,
   "metadata": {},
   "outputs": [],
   "source": [
    "random.seed(0)\n",
    "np.random.seed(0)\n",
    "torch.manual_seed(0);\n",
    "\n",
    "image_folder = '../data'\n",
    "annotation_csv = '../data/annotation.csv'"
   ]
  },
  {
   "cell_type": "code",
   "execution_count": 5,
   "metadata": {},
   "outputs": [],
   "source": [
    "labeled_scene_index = np.arange(106, 134)\n",
    "\n",
    "train_index = np.arange(106,108)\n",
    "val_index = np.arange(128,130)"
   ]
  },
  {
   "cell_type": "code",
   "execution_count": 7,
   "metadata": {},
   "outputs": [],
   "source": [
    "transform = torchvision.transforms.ToTensor()\n",
    "\n",
    "labeled_trainset = LabeledDataset(\n",
    "    image_folder=image_folder,\n",
    "    annotation_file=annotation_csv,\n",
    "    scene_index=train_index,\n",
    "    transform=transform,\n",
    "    extra_info=False\n",
    "    )\n",
    "\n",
    "labeled_valset = LabeledDataset(\n",
    "    image_folder=image_folder,\n",
    "    annotation_file=annotation_csv,\n",
    "    scene_index=val_index,\n",
    "    transform=transform,\n",
    "    extra_info=False\n",
    "    )\n",
    "\n",
    "trainloader = torch.utils.data.DataLoader(labeled_trainset, batch_size=2, shuffle=True, num_workers=2, collate_fn=collate_fn)\n",
    "valloader = torch.utils.data.DataLoader(labeled_valset, batch_size=1, shuffle=True, num_workers=2, collate_fn=collate_fn)"
   ]
  },
  {
   "cell_type": "code",
   "execution_count": 10,
   "metadata": {},
   "outputs": [],
   "source": [
    "model = BoundingBox().double().to(device)"
   ]
  },
  {
   "cell_type": "code",
   "execution_count": 13,
   "metadata": {},
   "outputs": [
    {
     "data": {
      "text/plain": [
       "<All keys matched successfully>"
      ]
     },
     "execution_count": 13,
     "metadata": {},
     "output_type": "execute_result"
    }
   ],
   "source": [
    "model.load_state_dict(torch.load('../code/PT_FILES/bbox_1epoch.pt', map_location=device))"
   ]
  },
  {
   "cell_type": "code",
   "execution_count": 14,
   "metadata": {},
   "outputs": [],
   "source": [
    "def draw_box(ax, corners, color):\n",
    "    point_squence = torch.stack([corners[:, 0], corners[:, 1], corners[:, 3], corners[:, 2], corners[:, 0]])\n",
    "    # the corners are in meter and time 10 will convert them in pixels\n",
    "    # Add 400, since the center of the image is at pixel (400, 400)\n",
    "    # The negative sign is because the y axis is reversed for matplotlib\n",
    "    ax.plot(point_squence.transpose(0,1).numpy()[0] * 10 + 400, -point_squence.transpose(0,1).numpy()[1] * 10 + 400, color=color)\n",
    "\n",
    "# The center of image is 400 * 400"
   ]
  },
  {
   "cell_type": "code",
   "execution_count": 32,
   "metadata": {},
   "outputs": [
    {
     "data": {
      "image/png": "[encoded data removed]",
      "text/plain": [
       "<Figure size 1000x1000 with 1 Axes>"
      ]
     },
     "metadata": {
      "needs_background": "light"
     },
     "output_type": "display_data"
    }
   ],
   "source": [
    "sample, target, road_image = iter(valloader).next()\n",
    "\n",
    "fig, ax = plt.subplots()\n",
    "color_list = ['b', 'g', 'orange', 'c', 'm', 'y', 'k', 'w', 'r']\n",
    "\n",
    "ax.imshow(road_image[0], cmap ='binary');\n",
    "# The ego car position\n",
    "ax.plot(400, 400, 'x', color=\"red\")\n",
    "\n",
    "for i, bb in enumerate(target[0]['bounding_box']):\n",
    "    # You can check the implementation of the draw box to understand how it works \n",
    "    draw_box(ax, bb, color=color_list[target[0]['category'][i]])"
   ]
  },
  {
   "cell_type": "code",
   "execution_count": 33,
   "metadata": {},
   "outputs": [
    {
     "data": {
      "text/plain": [
       "BoundingBox(\n",
       "  (encoder): ResNet(\n",
       "    (conv1): Conv2d(18, 64, kernel_size=(7, 7), stride=(2, 2), padding=(3, 3), bias=False)\n",
       "    (bn1): BatchNorm2d(64, eps=1e-05, momentum=0.1, affine=True, track_running_stats=True)\n",
       "    (relu): ReLU(inplace=True)\n",
       "    (maxpool): MaxPool2d(kernel_size=3, stride=2, padding=1, dilation=1, ceil_mode=False)\n",
       "    (layer1): Sequential(\n",
       "      (0): BasicBlock(\n",
       "        (conv1): Conv2d(64, 64, kernel_size=(3, 3), stride=(1, 1), padding=(1, 1), bias=False)\n",
       "        (bn1): BatchNorm2d(64, eps=1e-05, momentum=0.1, affine=True, track_running_stats=True)\n",
       "        (relu): ReLU(inplace=True)\n",
       "        (conv2): Conv2d(64, 64, kernel_size=(3, 3), stride=(1, 1), padding=(1, 1), bias=False)\n",
       "        (bn2): BatchNorm2d(64, eps=1e-05, momentum=0.1, affine=True, track_running_stats=True)\n",
       "      )\n",
       "      (1): BasicBlock(\n",
       "        (conv1): Conv2d(64, 64, kernel_size=(3, 3), stride=(1, 1), padding=(1, 1), bias=False)\n",
       "        (bn1): BatchNorm2d(64, eps=1e-05, momentum=0.1, affine=True, track_running_stats=True)\n",
       "        (relu): ReLU(inplace=True)\n",
       "        (conv2): Conv2d(64, 64, kernel_size=(3, 3), stride=(1, 1), padding=(1, 1), bias=False)\n",
       "        (bn2): BatchNorm2d(64, eps=1e-05, momentum=0.1, affine=True, track_running_stats=True)\n",
       "      )\n",
       "    )\n",
       "    (layer2): Sequential(\n",
       "      (0): BasicBlock(\n",
       "        (conv1): Conv2d(64, 128, kernel_size=(3, 3), stride=(2, 2), padding=(1, 1), bias=False)\n",
       "        (bn1): BatchNorm2d(128, eps=1e-05, momentum=0.1, affine=True, track_running_stats=True)\n",
       "        (relu): ReLU(inplace=True)\n",
       "        (conv2): Conv2d(128, 128, kernel_size=(3, 3), stride=(1, 1), padding=(1, 1), bias=False)\n",
       "        (bn2): BatchNorm2d(128, eps=1e-05, momentum=0.1, affine=True, track_running_stats=True)\n",
       "        (downsample): Sequential(\n",
       "          (0): Conv2d(64, 128, kernel_size=(1, 1), stride=(2, 2), bias=False)\n",
       "          (1): BatchNorm2d(128, eps=1e-05, momentum=0.1, affine=True, track_running_stats=True)\n",
       "        )\n",
       "      )\n",
       "      (1): BasicBlock(\n",
       "        (conv1): Conv2d(128, 128, kernel_size=(3, 3), stride=(1, 1), padding=(1, 1), bias=False)\n",
       "        (bn1): BatchNorm2d(128, eps=1e-05, momentum=0.1, affine=True, track_running_stats=True)\n",
       "        (relu): ReLU(inplace=True)\n",
       "        (conv2): Conv2d(128, 128, kernel_size=(3, 3), stride=(1, 1), padding=(1, 1), bias=False)\n",
       "        (bn2): BatchNorm2d(128, eps=1e-05, momentum=0.1, affine=True, track_running_stats=True)\n",
       "      )\n",
       "    )\n",
       "    (layer3): Sequential(\n",
       "      (0): BasicBlock(\n",
       "        (conv1): Conv2d(128, 256, kernel_size=(3, 3), stride=(2, 2), padding=(1, 1), bias=False)\n",
       "        (bn1): BatchNorm2d(256, eps=1e-05, momentum=0.1, affine=True, track_running_stats=True)\n",
       "        (relu): ReLU(inplace=True)\n",
       "        (conv2): Conv2d(256, 256, kernel_size=(3, 3), stride=(1, 1), padding=(1, 1), bias=False)\n",
       "        (bn2): BatchNorm2d(256, eps=1e-05, momentum=0.1, affine=True, track_running_stats=True)\n",
       "        (downsample): Sequential(\n",
       "          (0): Conv2d(128, 256, kernel_size=(1, 1), stride=(2, 2), bias=False)\n",
       "          (1): BatchNorm2d(256, eps=1e-05, momentum=0.1, affine=True, track_running_stats=True)\n",
       "        )\n",
       "      )\n",
       "      (1): BasicBlock(\n",
       "        (conv1): Conv2d(256, 256, kernel_size=(3, 3), stride=(1, 1), padding=(1, 1), bias=False)\n",
       "        (bn1): BatchNorm2d(256, eps=1e-05, momentum=0.1, affine=True, track_running_stats=True)\n",
       "        (relu): ReLU(inplace=True)\n",
       "        (conv2): Conv2d(256, 256, kernel_size=(3, 3), stride=(1, 1), padding=(1, 1), bias=False)\n",
       "        (bn2): BatchNorm2d(256, eps=1e-05, momentum=0.1, affine=True, track_running_stats=True)\n",
       "      )\n",
       "    )\n",
       "    (layer4): Sequential(\n",
       "      (0): BasicBlock(\n",
       "        (conv1): Conv2d(256, 512, kernel_size=(3, 3), stride=(2, 2), padding=(1, 1), bias=False)\n",
       "        (bn1): BatchNorm2d(512, eps=1e-05, momentum=0.1, affine=True, track_running_stats=True)\n",
       "        (relu): ReLU(inplace=True)\n",
       "        (conv2): Conv2d(512, 512, kernel_size=(3, 3), stride=(1, 1), padding=(1, 1), bias=False)\n",
       "        (bn2): BatchNorm2d(512, eps=1e-05, momentum=0.1, affine=True, track_running_stats=True)\n",
       "        (downsample): Sequential(\n",
       "          (0): Conv2d(256, 512, kernel_size=(1, 1), stride=(2, 2), bias=False)\n",
       "          (1): BatchNorm2d(512, eps=1e-05, momentum=0.1, affine=True, track_running_stats=True)\n",
       "        )\n",
       "      )\n",
       "      (1): BasicBlock(\n",
       "        (conv1): Conv2d(512, 512, kernel_size=(3, 3), stride=(1, 1), padding=(1, 1), bias=False)\n",
       "        (bn1): BatchNorm2d(512, eps=1e-05, momentum=0.1, affine=True, track_running_stats=True)\n",
       "        (relu): ReLU(inplace=True)\n",
       "        (conv2): Conv2d(512, 512, kernel_size=(3, 3), stride=(1, 1), padding=(1, 1), bias=False)\n",
       "        (bn2): BatchNorm2d(512, eps=1e-05, momentum=0.1, affine=True, track_running_stats=True)\n",
       "      )\n",
       "    )\n",
       "    (avgpool): AdaptiveAvgPool2d(output_size=(1, 1))\n",
       "    (fc): Linear(in_features=512, out_features=1000, bias=True)\n",
       "  )\n",
       "  (classifier): Conv2d(512, 10, kernel_size=(3, 3), stride=(1, 1), padding=(1, 1), bias=False)\n",
       "  (classifier1): Conv2d(3, 18, kernel_size=(3, 3), stride=(1, 1), padding=(1, 1), bias=False)\n",
       "  (regressor): Conv2d(10, 16, kernel_size=(3, 3), stride=(1, 1), padding=(1, 1), bias=False)\n",
       "  (pred): Conv2d(10, 36, kernel_size=(3, 3), stride=(1, 1), padding=(1, 1), bias=False)\n",
       ")"
      ]
     },
     "execution_count": 33,
     "metadata": {},
     "output_type": "execute_result"
    }
   ],
   "source": [
    "model.eval()"
   ]
  },
  {
   "cell_type": "code",
   "execution_count": 34,
   "metadata": {},
   "outputs": [],
   "source": [
    "s = torch.stack(sample).to('cpu').double()\n",
    "\n",
    "out_pred, out_bbox = model(s)\n",
    "class_target, box_target = get_targets(target, sample)"
   ]
  },
  {
   "cell_type": "code",
   "execution_count": 35,
   "metadata": {},
   "outputs": [
    {
     "name": "stdout",
     "output_type": "stream",
     "text": [
      "torch.Size([1, 36, 800, 800])\n",
      "torch.Size([1, 16, 800, 800])\n",
      "torch.Size([1, 2560000])\n",
      "torch.Size([1, 2560000, 4])\n"
     ]
    }
   ],
   "source": [
    "print(out_pred.shape)\n",
    "print(out_bbox.shape)\n",
    "\n",
    "print(class_target.shape)\n",
    "print(box_target.shape)"
   ]
  },
  {
   "cell_type": "code",
   "execution_count": 36,
   "metadata": {},
   "outputs": [],
   "source": [
    "out_bbox = out_bbox.view(out_bbox.shape[0], -1, 4)"
   ]
  },
  {
   "cell_type": "code",
   "execution_count": 37,
   "metadata": {},
   "outputs": [
    {
     "data": {
      "text/plain": [
       "torch.Size([1, 2560000, 4])"
      ]
     },
     "execution_count": 37,
     "metadata": {},
     "output_type": "execute_result"
    }
   ],
   "source": [
    "out_bbox.shape"
   ]
  },
  {
   "cell_type": "code",
   "execution_count": null,
   "metadata": {},
   "outputs": [],
   "source": []
  },
  {
   "cell_type": "code",
   "execution_count": 40,
   "metadata": {},
   "outputs": [
    {
     "ename": "RuntimeError",
     "evalue": "No such operator torchvision::nms",
     "output_type": "error",
     "traceback": [
      "\u001b[0;31m---------------------------------------------------------------------------\u001b[0m",
      "\u001b[0;31mRuntimeError\u001b[0m                              Traceback (most recent call last)",
      "\u001b[0;32m<ipython-input-40-7533e4574789>\u001b[0m in \u001b[0;36m<module>\u001b[0;34m\u001b[0m\n\u001b[0;32m----> 1\u001b[0;31m \u001b[0mfinal_coor\u001b[0m\u001b[0;34m,\u001b[0m \u001b[0mbatched_threat_sum\u001b[0m \u001b[0;34m=\u001b[0m \u001b[0mbatched_coor_threat_updated\u001b[0m\u001b[0;34m(\u001b[0m\u001b[0m_\u001b[0m\u001b[0;34m,\u001b[0m \u001b[0mout_bbox\u001b[0m\u001b[0;34m,\u001b[0m \u001b[0mget_anchor_boxes\u001b[0m\u001b[0;34m(\u001b[0m\u001b[0;34m)\u001b[0m\u001b[0;34m,\u001b[0m \u001b[0;34m[\u001b[0m\u001b[0mtarget\u001b[0m\u001b[0;34m[\u001b[0m\u001b[0;36m0\u001b[0m\u001b[0;34m]\u001b[0m\u001b[0;34m[\u001b[0m\u001b[0;34m'bounding_box'\u001b[0m\u001b[0;34m]\u001b[0m\u001b[0;34m.\u001b[0m\u001b[0mnumpy\u001b[0m\u001b[0;34m(\u001b[0m\u001b[0;34m)\u001b[0m\u001b[0;34m]\u001b[0m\u001b[0;34m,\u001b[0m \u001b[0mclass_target\u001b[0m\u001b[0;34m,\u001b[0m \u001b[0;36m1\u001b[0m\u001b[0;34m,\u001b[0m \u001b[0mnms_threshold\u001b[0m\u001b[0;34m=\u001b[0m\u001b[0;36m0.1\u001b[0m\u001b[0;34m,\u001b[0m \u001b[0mplot\u001b[0m\u001b[0;34m=\u001b[0m\u001b[0;32mFalse\u001b[0m\u001b[0;34m)\u001b[0m\u001b[0;34m\u001b[0m\u001b[0;34m\u001b[0m\u001b[0m\n\u001b[0m",
      "\u001b[0;32m<ipython-input-39-3d0f8923368e>\u001b[0m in \u001b[0;36mbatched_coor_threat_updated\u001b[0;34m(ite, predicted_offsets, anchor_boxes, target, gt_classes, batch_sz, nms_threshold, plot)\u001b[0m\n\u001b[1;32m     78\u001b[0m         \u001b[0mcur_target\u001b[0m \u001b[0;34m=\u001b[0m \u001b[0mcur_target\u001b[0m\u001b[0;34m.\u001b[0m\u001b[0mtype\u001b[0m\u001b[0;34m(\u001b[0m\u001b[0mtorch\u001b[0m\u001b[0;34m.\u001b[0m\u001b[0mfloat32\u001b[0m\u001b[0;34m)\u001b[0m\u001b[0;34m\u001b[0m\u001b[0;34m\u001b[0m\u001b[0m\n\u001b[1;32m     79\u001b[0m \u001b[0;34m\u001b[0m\u001b[0m\n\u001b[0;32m---> 80\u001b[0;31m         \u001b[0minds\u001b[0m \u001b[0;34m=\u001b[0m \u001b[0mnms\u001b[0m\u001b[0;34m(\u001b[0m\u001b[0mpred_boxes\u001b[0m\u001b[0;34m,\u001b[0m \u001b[0mgt_classes\u001b[0m\u001b[0;34m,\u001b[0m \u001b[0mnms_threshold\u001b[0m\u001b[0;34m)\u001b[0m\u001b[0;34m\u001b[0m\u001b[0;34m\u001b[0m\u001b[0m\n\u001b[0m\u001b[1;32m     81\u001b[0m         \u001b[0mpred_boxes\u001b[0m \u001b[0;34m=\u001b[0m \u001b[0mpred_boxes\u001b[0m\u001b[0;34m[\u001b[0m\u001b[0minds\u001b[0m\u001b[0;34m]\u001b[0m\u001b[0;34m\u001b[0m\u001b[0;34m\u001b[0m\u001b[0m\n\u001b[1;32m     82\u001b[0m         \u001b[0mcoordinate_list\u001b[0m \u001b[0;34m=\u001b[0m \u001b[0;34m[\u001b[0m\u001b[0;34m]\u001b[0m\u001b[0;34m\u001b[0m\u001b[0;34m\u001b[0m\u001b[0m\n",
      "\u001b[0;32m<ipython-input-39-3d0f8923368e>\u001b[0m in \u001b[0;36mnms\u001b[0;34m(boxes, scores, iou_threshold)\u001b[0m\n\u001b[1;32m     24\u001b[0m         \u001b[0mby\u001b[0m \u001b[0mNMS\u001b[0m\u001b[0;34m,\u001b[0m \u001b[0msorted\u001b[0m \u001b[0;32min\u001b[0m \u001b[0mdecreasing\u001b[0m \u001b[0morder\u001b[0m \u001b[0mof\u001b[0m \u001b[0mscores\u001b[0m\u001b[0;34m\u001b[0m\u001b[0;34m\u001b[0m\u001b[0m\n\u001b[1;32m     25\u001b[0m     \"\"\"\n\u001b[0;32m---> 26\u001b[0;31m     \u001b[0;32mreturn\u001b[0m \u001b[0mtorch\u001b[0m\u001b[0;34m.\u001b[0m\u001b[0mops\u001b[0m\u001b[0;34m.\u001b[0m\u001b[0mtorchvision\u001b[0m\u001b[0;34m.\u001b[0m\u001b[0mnms\u001b[0m\u001b[0;34m(\u001b[0m\u001b[0mboxes\u001b[0m\u001b[0;34m,\u001b[0m \u001b[0mscores\u001b[0m\u001b[0;34m,\u001b[0m \u001b[0miou_threshold\u001b[0m\u001b[0;34m)\u001b[0m\u001b[0;34m\u001b[0m\u001b[0;34m\u001b[0m\u001b[0m\n\u001b[0m\u001b[1;32m     27\u001b[0m \u001b[0;34m\u001b[0m\u001b[0m\n\u001b[1;32m     28\u001b[0m \u001b[0;34m\u001b[0m\u001b[0m\n",
      "\u001b[0;32m/Library/Frameworks/Python.framework/Versions/3.7/lib/python3.7/site-packages/torch/_ops.py\u001b[0m in \u001b[0;36m__getattr__\u001b[0;34m(self, op_name)\u001b[0m\n\u001b[1;32m     59\u001b[0m         \u001b[0;31m# for overloads and raise an exception if there are more than one.\u001b[0m\u001b[0;34m\u001b[0m\u001b[0;34m\u001b[0m\u001b[0;34m\u001b[0m\u001b[0m\n\u001b[1;32m     60\u001b[0m         \u001b[0mqualified_op_name\u001b[0m \u001b[0;34m=\u001b[0m \u001b[0;34m'{}::{}'\u001b[0m\u001b[0;34m.\u001b[0m\u001b[0mformat\u001b[0m\u001b[0;34m(\u001b[0m\u001b[0mself\u001b[0m\u001b[0;34m.\u001b[0m\u001b[0mname\u001b[0m\u001b[0;34m,\u001b[0m \u001b[0mop_name\u001b[0m\u001b[0;34m)\u001b[0m\u001b[0;34m\u001b[0m\u001b[0;34m\u001b[0m\u001b[0m\n\u001b[0;32m---> 61\u001b[0;31m         \u001b[0mop\u001b[0m \u001b[0;34m=\u001b[0m \u001b[0mtorch\u001b[0m\u001b[0;34m.\u001b[0m\u001b[0m_C\u001b[0m\u001b[0;34m.\u001b[0m\u001b[0m_jit_get_operation\u001b[0m\u001b[0;34m(\u001b[0m\u001b[0mqualified_op_name\u001b[0m\u001b[0;34m)\u001b[0m\u001b[0;34m\u001b[0m\u001b[0;34m\u001b[0m\u001b[0m\n\u001b[0m\u001b[1;32m     62\u001b[0m         \u001b[0;31m# let the script frontend know that op is identical to the builtin op\u001b[0m\u001b[0;34m\u001b[0m\u001b[0;34m\u001b[0m\u001b[0;34m\u001b[0m\u001b[0m\n\u001b[1;32m     63\u001b[0m         \u001b[0;31m# with qualified_op_name\u001b[0m\u001b[0;34m\u001b[0m\u001b[0;34m\u001b[0m\u001b[0;34m\u001b[0m\u001b[0m\n",
      "\u001b[0;31mRuntimeError\u001b[0m: No such operator torchvision::nms"
     ]
    }
   ],
   "source": [
    "final_coor, batched_threat_sum = batched_coor_threat_updated(_, out_bbox, get_anchor_boxes(), [target[0]['bounding_box'].numpy()], class_target, 1, nms_threshold=0.1, plot=False)"
   ]
  },
  {
   "cell_type": "code",
   "execution_count": 45,
   "metadata": {},
   "outputs": [
    {
     "name": "stdout",
     "output_type": "stream",
     "text": [
      "Collecting environment information...\n",
      "PyTorch version: 1.5.0\n",
      "Is debug build: No\n",
      "CUDA used to build PyTorch: None\n",
      "\n",
      "OS: Mac OSX 10.15.4\n",
      "GCC version: Could not collect\n",
      "CMake version: Could not collect\n",
      "\n",
      "Python version: 3.7\n",
      "Is CUDA available: No\n",
      "CUDA runtime version: No CUDA\n",
      "GPU models and configuration: No CUDA\n",
      "Nvidia driver version: No CUDA\n",
      "cuDNN version: No CUDA\n",
      "\n",
      "Versions of relevant libraries:\n",
      "[pip3] numpy==1.16.3\n",
      "[pip3] torch==1.5.0\n",
      "[pip3] torchvision==0.6.0\n",
      "[conda] Could not collect\n"
     ]
    }
   ],
   "source": [
    "!python3 -m torch.utils.collect_env"
   ]
  },
  {
   "cell_type": "code",
   "execution_count": null,
   "metadata": {},
   "outputs": [],
   "source": []
  }
 ],
 "metadata": {
  "kernelspec": {
   "display_name": "Python 3",
   "language": "python",
   "name": "python3"
  },
  "language_info": {
   "codemirror_mode": {
    "name": "ipython",
    "version": 3
   },
   "file_extension": ".py",
   "mimetype": "text/x-python",
   "name": "python",
   "nbconvert_exporter": "python",
   "pygments_lexer": "ipython3",
   "version": "3.7.7"
  }
 },
 "nbformat": 4,
 "nbformat_minor": 4
}
